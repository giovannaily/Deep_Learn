{
  "nbformat": 4,
  "nbformat_minor": 0,
  "metadata": {
    "colab": {
      "provenance": [],
      "mount_file_id": "17bagTnP9FF_OnS8qofLvAcnVP9MudD6p",
      "authorship_tag": "ABX9TyNqBvyV6LHLmu7KF23m8yLn",
      "include_colab_link": true
    },
    "kernelspec": {
      "name": "python3",
      "display_name": "Python 3"
    },
    "language_info": {
      "name": "python"
    }
  },
  "cells": [
    {
      "cell_type": "markdown",
      "metadata": {
        "id": "view-in-github",
        "colab_type": "text"
      },
      "source": [
        "<a href=\"https://colab.research.google.com/github/giovannaily/Deep_Learn/blob/main/CNN_comparation_car_brand_logos.ipynb\" target=\"_parent\"><img src=\"https://colab.research.google.com/assets/colab-badge.svg\" alt=\"Open In Colab\"/></a>"
      ]
    },
    {
      "cell_type": "markdown",
      "source": [
        "Universidade Federal de Pernambuco - UFPE \\\n",
        "Centro de Informática - CIn \\\n",
        "Ciência da computação - Pós graduação \\\n",
        "Deep Learn 2024.1 \\\n",
        "Student: Giovanna Ily Farias Ramalho"
      ],
      "metadata": {
        "id": "seHspoxsbBbN"
      }
    },
    {
      "cell_type": "markdown",
      "source": [
        "# Challenge 1 - RN and CNN comparation"
      ],
      "metadata": {
        "id": "C63i74Rva7JV"
      }
    },
    {
      "cell_type": "markdown",
      "source": [
        "# Redes Neurais Convolucionais\n",
        "\n",
        "In the previous section, we built and trained a simple model to classify gemstone images. The model did not perform as well in both the training and validation sets. This behavior is known as [underfitting](https://scikit-learn.org/stable/auto_examples/model_selection/plot_underfitting_overfitting.html). In this section, we introduce a popular model type called [convolutional neural network](https://towardsdatascience.com/a-comprehensive-guide-to-convolutional-neural-networks-the-eli5-way-3bd2b1164a53). This model is especially good at reading images and classifying them."
      ],
      "metadata": {
        "id": "H8H4K8mdbTXq"
      }
    },
    {
      "cell_type": "markdown",
      "source": [
        "# Goals\n",
        "* Prepare data specifically for a CNN\n",
        "* Create a more sophisticated CNN model and understand a greater variety of model layers\n",
        "* Train a CNN model and observe its performance"
      ],
      "metadata": {
        "id": "6Aug952jbcPZ"
      }
    },
    {
      "cell_type": "code",
      "source": [
        "# Import librarys\n",
        "import numpy as np\n",
        "import pandas as pd\n",
        "import matplotlib.pyplot as plt\n",
        "import tensorflow.keras as keras\n",
        "from sklearn.model_selection import train_test_split"
      ],
      "metadata": {
        "id": "l5pmLpA1cziT"
      },
      "execution_count": null,
      "outputs": []
    },
    {
      "cell_type": "markdown",
      "source": [
        "# Data vizualization"
      ],
      "metadata": {
        "id": "7s5OVYvbdDfp"
      }
    },
    {
      "cell_type": "code",
      "source": [
        "# Reading the data\n",
        "data = pd.read_csv('/content/drive/MyDrive/Car_Brand_Logos/gems_expanded.csv')\n",
        "data = np.array(data)"
      ],
      "metadata": {
        "id": "XueXoBogdJsx"
      },
      "execution_count": null,
      "outputs": []
    },
    {
      "cell_type": "code",
      "source": [
        "# Shuffling the instances\n",
        "np.random.seed(42)\n",
        "np.random.shuffle(data)"
      ],
      "metadata": {
        "id": "JE6krLVGRQir"
      },
      "execution_count": null,
      "outputs": []
    },
    {
      "cell_type": "code",
      "source": [
        "# Separating data and labels\n",
        "x = data[:, :-1]\n",
        "y = data[:, -1]\n",
        "\n",
        "# Separating training and validation sets\n",
        "x_train, x_val, y_train, y_val = train_test_split(x, y, test_size=0.2, stratify=y, shuffle=True, random_state=42)"
      ],
      "metadata": {
        "id": "12IitttmRUVE"
      },
      "execution_count": null,
      "outputs": []
    },
    {
      "cell_type": "code",
      "source": [
        "# Performing coding of categories\n",
        "num_classes = 88\n",
        "\n",
        "y_train = keras.utils.to_categorical(y_train, num_classes)\n",
        "y_val = keras.utils.to_categorical(y_val, num_classes)"
      ],
      "metadata": {
        "id": "q-ulpg3IRcMD"
      },
      "execution_count": null,
      "outputs": []
    },
    {
      "cell_type": "code",
      "source": [
        "# Normalization\n",
        "x_train = x_train/255.0\n",
        "x_val = x_val/255.0"
      ],
      "metadata": {
        "id": "7WUSmvnaReUn"
      },
      "execution_count": null,
      "outputs": []
    },
    {
      "cell_type": "markdown",
      "source": [
        "# Reformatting images for a CNN"
      ],
      "metadata": {
        "id": "OZG-rZg7R_9i"
      }
    },
    {
      "cell_type": "markdown",
      "source": [
        "In the last exercise, the individual figures in our dataset were in the format of long lists of 30000 pixels:"
      ],
      "metadata": {
        "id": "dHJL0jj_Slm9"
      }
    },
    {
      "cell_type": "code",
      "source": [
        "x_train.shape, x_val.shape"
      ],
      "metadata": {
        "colab": {
          "base_uri": "https://localhost:8080/"
        },
        "id": "mI7dwZdUSClw",
        "outputId": "457303fd-0bff-4671-d31e-8cbceb8d594e"
      },
      "execution_count": null,
      "outputs": [
        {
          "output_type": "execute_result",
          "data": {
            "text/plain": [
              "((2017, 30000), (505, 30000))"
            ]
          },
          "metadata": {},
          "execution_count": 8
        }
      ]
    },
    {
      "cell_type": "markdown",
      "source": [
        "In this format, we do not have all the information about which pixels are close to each other. Because of this, we cannot apply convolutions that will detect features. Let's reformat our dataset so that it has a 100x100 pixel format. This will allow our convolutions to associate groups of pixels and detect important attributes.\n",
        "\n",
        "Note that for the first convolutional layer of our model, we need to not only have the height and width of the image, but also the number of [color channels](https://www.photoshopessentials.com/essentials/rgb/). Our images are in RGB system, so we have all 3 channels.\n",
        "\n",
        "This means we need to convert the current format `(3520, 30000)` to `(3520, 100, 100, 3)`. For convenience, we will pass the [reshape](https://numpy.org/doc/stable/reference/generated/numpy.reshape.html#numpy.reshape) method a `-1` for any dimension we want to keep unchanged. Like this:"
      ],
      "metadata": {
        "id": "zzR3puQ-Sse4"
      }
    },
    {
      "cell_type": "code",
      "source": [
        "x_train = x_train.reshape(-1,100,100,3)\n",
        "x_val = x_val.reshape(-1,100,100,3)"
      ],
      "metadata": {
        "id": "bN_BVHbNS-ZM"
      },
      "execution_count": null,
      "outputs": []
    },
    {
      "cell_type": "code",
      "source": [
        "x_train.shape, x_val.shape"
      ],
      "metadata": {
        "colab": {
          "base_uri": "https://localhost:8080/"
        },
        "id": "SUsQmvKcTc3J",
        "outputId": "b1100c73-02b5-45e8-ff17-eaaacf4d9786"
      },
      "execution_count": null,
      "outputs": [
        {
          "output_type": "execute_result",
          "data": {
            "text/plain": [
              "((2017, 100, 100, 3), (505, 100, 100, 3))"
            ]
          },
          "metadata": {},
          "execution_count": 15
        }
      ]
    },
    {
      "cell_type": "markdown",
      "source": [
        "# creating a convolutional model"
      ],
      "metadata": {
        "id": "EzTeGnUZTnmY"
      }
    },
    {
      "cell_type": "markdown",
      "source": [
        "I will start my projects by borrowing model properties from a similar project. Assuming this problem is not unique, there is a good chance that people have created well-performing models and posted them to online repositories like [TensorFlow Hub](https://www.tensorflow.org/hub) and the [NGC Catalog ](https://ngc.nvidia.com/catalog/models). Today, we will provide a template that will serve this problem well.\n",
        "\n",
        "<!--<img src=\"https://drive.google.com/uc?id=1WeMvcGJiRLmXCsp6kwozb-7slhHboooq\" width=180 />-->\n",
        "<img src=\"CNN.png\" width=180 />\n",
        "\n",
        "In this activity, we cover many of the different types of layers that exist."
      ],
      "metadata": {
        "id": "sNEnlxppTo9i"
      }
    },
    {
      "cell_type": "code",
      "source": [
        "from tensorflow.keras.models import Sequential\n",
        "from tensorflow.keras.layers import (\n",
        "    Dense,\n",
        "    Conv2D,\n",
        "    MaxPool2D,\n",
        "    Flatten,\n",
        "    Dropout,\n",
        "    BatchNormalization,\n",
        ")\n",
        "\n",
        "model = Sequential() # Instanciamento do modelo\n",
        "model.add(Conv2D(75, (3, 3), strides=1, padding=\"same\", activation=\"relu\",\n",
        "                 input_shape=(100, 100, 3))) # Camada de entrada\n",
        "model.add(BatchNormalization()) # Normalização em lote\n",
        "model.add(MaxPool2D((2, 2), strides=2, padding=\"same\")) # Max pooling\n",
        "model.add(Conv2D(50, (3, 3), strides=1, padding=\"same\", activation=\"relu\")) # Camada convolucional\n",
        "model.add(Dropout(0.2)) # Descarte de neurônios\n",
        "model.add(BatchNormalization()) # Normalização em lote\n",
        "model.add(MaxPool2D((2, 2), strides=2, padding=\"same\")) # Max pooling\n",
        "model.add(Conv2D(25, (3, 3), strides=1, padding=\"same\", activation=\"relu\")) # Camada convolucional\n",
        "model.add(BatchNormalization()) # Normalização em lote\n",
        "model.add(MaxPool2D((2, 2), strides=2, padding=\"same\")) # Max pooling\n",
        "model.add(Flatten()) # Achatamento\n",
        "model.add(Dense(units=512, activation=\"relu\")) # Camada inteiramente conectada\n",
        "model.add(Dropout(0.3)) # Descarte de neurônios\n",
        "model.add(Dense(units=num_classes, activation=\"softmax\")) # Camada de saída"
      ],
      "metadata": {
        "id": "X43L1M1ET3oz"
      },
      "execution_count": null,
      "outputs": []
    },
    {
      "cell_type": "markdown",
      "source": [
        "# two-dimensional convolutional layers"
      ],
      "metadata": {
        "id": "bq0mJ8C3UbAw"
      }
    },
    {
      "cell_type": "markdown",
      "source": [
        "<!--<img src=\"https://drive.google.com/uc?id=1f4iuQX4IBOKW1bCAs9O_MTP-bqBlj-aQ\" width=300 />-->\n",
        "<img src=\"Conv2D.png\" width=300 />\n",
        "\n",
        "These are my two-dimensional convolutional layers. Small kernels go over the input image and detect features important for classification. The model's first convolutions detect simple attributes like lines. Further convolutions will detect more complex features.\n",
        "```Python\n",
        "model.add(Conv2D(75 , (3,3) , strides = 1 , padding = 'same'...)\n",
        "```\n",
        "75 refers to the number of filters that will be learned. (3,3) refers to the size of these filters. *Stride* refers to the step that the filter will advance as it traverses the image. *Padding* refers to whether or not the output image that will be created from the filter will be the same size as the input image."
      ],
      "metadata": {
        "id": "bjztuPrvUkB7"
      }
    },
    {
      "cell_type": "markdown",
      "source": [
        "### [BatchNormalization](https://www.tensorflow.org/api_docs/python/tf/keras/layers/BatchNormalization)\n",
        "Like input normalization, batch normalization resizes values ​​in hidden layers to improve training."
      ],
      "metadata": {
        "id": "l3CCqLyRV3ub"
      }
    },
    {
      "cell_type": "markdown",
      "source": [
        "### [MaxPool2D](https://www.tensorflow.org/api_docs/python/tf/keras/layers/MaxPool2D)"
      ],
      "metadata": {
        "id": "YZZMOqIIV-S0"
      }
    },
    {
      "cell_type": "markdown",
      "source": [
        "<img src=\"https://drive.google.com/uc?id=1V0KkSlK9mSrJJLSt6dZM-dN1ciUJJYH2\" width=300 />\n",
        "\n",
        "*Max pooling* takes an image and essentially shrinks it to a lower resolution. This is done to help the model become more robust to translational transformation (objects moving from one side to the other), and it also makes the model faster."
      ],
      "metadata": {
        "id": "Rf4GlDQwWI8K"
      }
    },
    {
      "cell_type": "markdown",
      "source": [
        "### [Dropout](https://www.tensorflow.org/api_docs/python/tf/keras/layers/Dropout)"
      ],
      "metadata": {
        "id": "MJfANGLcWOm0"
      }
    },
    {
      "cell_type": "markdown",
      "source": [
        "<img src=\"https://drive.google.com/uc?id=1Xd4HFauuDicUANuPu-sgTuUOjJ_Rhnat\" width=360 />\n",
        "\n",
        "*Dropout* is a technique to prevent overfitting. *dropout* randomly selects a subset of neurons and turns them off, so that they do not participate in backward or forward propagation at that particular time. This helps ensure that the network is robust and redundant, and that it does not rely on any one area to find answers."
      ],
      "metadata": {
        "id": "PLbqRDluWUKI"
      }
    },
    {
      "cell_type": "markdown",
      "source": [
        "### [Flatten](https://www.tensorflow.org/api_docs/python/tf/keras/layers/Flatten)"
      ],
      "metadata": {
        "id": "OAGyvZhtWa45"
      }
    },
    {
      "cell_type": "markdown",
      "source": [
        "*flatten* takes the output of a layer that is multidimensional, and flattens it into a one-dimensional vector. The output is called a feature vector and will be connected to the final classification layer."
      ],
      "metadata": {
        "id": "epC3AGs2Wl7j"
      }
    },
    {
      "cell_type": "markdown",
      "source": [
        "### [Dense](https://www.tensorflow.org/api_docs/python/tf/keras/layers/Dense)"
      ],
      "metadata": {
        "id": "alZfxyPtWt1L"
      }
    },
    {
      "cell_type": "markdown",
      "source": [
        "We have seen dense (fully connected) layers in previous models. Our first dense layer (512 units) takes the feature vector as input and learns which features will contribute to a particular classification. The second dense layer (24 units) is the final classification layer that returns us a prediction."
      ],
      "metadata": {
        "id": "3-gHd4xRW2W8"
      }
    },
    {
      "cell_type": "markdown",
      "source": [
        "## Model Summary"
      ],
      "metadata": {
        "id": "QFtzYu1eXEm6"
      }
    },
    {
      "cell_type": "markdown",
      "source": [
        "Convolutional models can help extract useful information from images, and can be used in classification tasks.\n",
        "\n",
        "Here, we have a summary of the model we created. It has fewer trainable parameters than the model in the previous notebook:"
      ],
      "metadata": {
        "id": "UwDUSqDfXFpT"
      }
    },
    {
      "cell_type": "code",
      "source": [
        "model.summary()"
      ],
      "metadata": {
        "colab": {
          "base_uri": "https://localhost:8080/"
        },
        "id": "Ommu2rkvXNrt",
        "outputId": "8deb076e-3be6-46ed-9704-e78402388c2a"
      },
      "execution_count": null,
      "outputs": [
        {
          "output_type": "stream",
          "name": "stdout",
          "text": [
            "Model: \"sequential\"\n",
            "_________________________________________________________________\n",
            " Layer (type)                Output Shape              Param #   \n",
            "=================================================================\n",
            " conv2d (Conv2D)             (None, 100, 100, 75)      2100      \n",
            "                                                                 \n",
            " batch_normalization (Batch  (None, 100, 100, 75)      300       \n",
            " Normalization)                                                  \n",
            "                                                                 \n",
            " max_pooling2d (MaxPooling2  (None, 50, 50, 75)        0         \n",
            " D)                                                              \n",
            "                                                                 \n",
            " conv2d_1 (Conv2D)           (None, 50, 50, 50)        33800     \n",
            "                                                                 \n",
            " dropout (Dropout)           (None, 50, 50, 50)        0         \n",
            "                                                                 \n",
            " batch_normalization_1 (Bat  (None, 50, 50, 50)        200       \n",
            " chNormalization)                                                \n",
            "                                                                 \n",
            " max_pooling2d_1 (MaxPoolin  (None, 25, 25, 50)        0         \n",
            " g2D)                                                            \n",
            "                                                                 \n",
            " conv2d_2 (Conv2D)           (None, 25, 25, 25)        11275     \n",
            "                                                                 \n",
            " batch_normalization_2 (Bat  (None, 25, 25, 25)        100       \n",
            " chNormalization)                                                \n",
            "                                                                 \n",
            " max_pooling2d_2 (MaxPoolin  (None, 13, 13, 25)        0         \n",
            " g2D)                                                            \n",
            "                                                                 \n",
            " flatten (Flatten)           (None, 4225)              0         \n",
            "                                                                 \n",
            " dense (Dense)               (None, 512)               2163712   \n",
            "                                                                 \n",
            " dropout_1 (Dropout)         (None, 512)               0         \n",
            "                                                                 \n",
            " dense_1 (Dense)             (None, 88)                45144     \n",
            "                                                                 \n",
            "=================================================================\n",
            "Total params: 2256631 (8.61 MB)\n",
            "Trainable params: 2256331 (8.61 MB)\n",
            "Non-trainable params: 300 (1.17 KB)\n",
            "_________________________________________________________________\n"
          ]
        }
      ]
    },
    {
      "cell_type": "markdown",
      "source": [],
      "metadata": {
        "id": "lggs3BYpXV2-"
      }
    },
    {
      "cell_type": "markdown",
      "source": [
        "## Compiling the model"
      ],
      "metadata": {
        "id": "hpxbtF1HXV8S"
      }
    },
    {
      "cell_type": "code",
      "source": [
        "model.compile(loss=\"categorical_crossentropy\", metrics=[\"accuracy\"])"
      ],
      "metadata": {
        "id": "zbu35zDBXcyE"
      },
      "execution_count": null,
      "outputs": []
    },
    {
      "cell_type": "markdown",
      "source": [
        "## Training the model"
      ],
      "metadata": {
        "id": "SV7dttfOXj77"
      }
    },
    {
      "cell_type": "markdown",
      "source": [
        "Despite the very different architecture, the training is exactly the same. Let's run the model for 20 epochs and see if the accuracy improves compared to the previous model:"
      ],
      "metadata": {
        "id": "2DuQM3I-XtFU"
      }
    },
    {
      "cell_type": "code",
      "source": [
        "history = model.fit(x_train, y_train, epochs=20, verbose=1, validation_data=(x_val, y_val))"
      ],
      "metadata": {
        "colab": {
          "base_uri": "https://localhost:8080/"
        },
        "id": "mqhOyUERXuKk",
        "outputId": "75a9a5cf-f6fb-4843-8025-5e7ad7db0b1e"
      },
      "execution_count": null,
      "outputs": [
        {
          "output_type": "stream",
          "name": "stdout",
          "text": [
            "Epoch 1/20\n",
            "64/64 [==============================] - 123s 2s/step - loss: 4.2875 - accuracy: 0.2514 - val_loss: 3.1779 - val_accuracy: 0.1208\n",
            "Epoch 2/20\n",
            "64/64 [==============================] - 113s 2s/step - loss: 1.6721 - accuracy: 0.4859 - val_loss: 2.5617 - val_accuracy: 0.1980\n",
            "Epoch 3/20\n",
            "64/64 [==============================] - 114s 2s/step - loss: 1.1382 - accuracy: 0.6495 - val_loss: 3.4053 - val_accuracy: 0.1802\n",
            "Epoch 4/20\n",
            "64/64 [==============================] - 108s 2s/step - loss: 0.7670 - accuracy: 0.7501 - val_loss: 2.7195 - val_accuracy: 0.3347\n",
            "Epoch 5/20\n",
            "64/64 [==============================] - 115s 2s/step - loss: 0.5021 - accuracy: 0.8309 - val_loss: 3.5073 - val_accuracy: 0.3545\n",
            "Epoch 6/20\n",
            "64/64 [==============================] - 115s 2s/step - loss: 0.3594 - accuracy: 0.8820 - val_loss: 1.8634 - val_accuracy: 0.5485\n",
            "Epoch 7/20\n",
            "64/64 [==============================] - 113s 2s/step - loss: 0.2382 - accuracy: 0.9222 - val_loss: 1.6573 - val_accuracy: 0.5881\n",
            "Epoch 8/20\n",
            "64/64 [==============================] - 114s 2s/step - loss: 0.1649 - accuracy: 0.9509 - val_loss: 1.6073 - val_accuracy: 0.6277\n",
            "Epoch 9/20\n",
            "64/64 [==============================] - 114s 2s/step - loss: 0.1643 - accuracy: 0.9514 - val_loss: 2.4387 - val_accuracy: 0.5505\n",
            "Epoch 10/20\n",
            "64/64 [==============================] - 107s 2s/step - loss: 0.1328 - accuracy: 0.9574 - val_loss: 2.0817 - val_accuracy: 0.6257\n",
            "Epoch 11/20\n",
            "64/64 [==============================] - 112s 2s/step - loss: 0.1140 - accuracy: 0.9653 - val_loss: 1.7619 - val_accuracy: 0.6752\n",
            "Epoch 12/20\n",
            "64/64 [==============================] - 115s 2s/step - loss: 0.0686 - accuracy: 0.9797 - val_loss: 2.1052 - val_accuracy: 0.6772\n",
            "Epoch 13/20\n",
            "64/64 [==============================] - 108s 2s/step - loss: 0.0882 - accuracy: 0.9712 - val_loss: 2.3409 - val_accuracy: 0.6218\n",
            "Epoch 14/20\n",
            "64/64 [==============================] - 107s 2s/step - loss: 0.0537 - accuracy: 0.9826 - val_loss: 2.4400 - val_accuracy: 0.6238\n",
            "Epoch 15/20\n",
            "64/64 [==============================] - 113s 2s/step - loss: 0.0670 - accuracy: 0.9787 - val_loss: 2.2087 - val_accuracy: 0.6416\n",
            "Epoch 16/20\n",
            "64/64 [==============================] - 107s 2s/step - loss: 0.0550 - accuracy: 0.9831 - val_loss: 2.3015 - val_accuracy: 0.6535\n",
            "Epoch 17/20\n",
            "64/64 [==============================] - 111s 2s/step - loss: 0.0409 - accuracy: 0.9901 - val_loss: 2.7361 - val_accuracy: 0.6693\n",
            "Epoch 18/20\n",
            "64/64 [==============================] - 114s 2s/step - loss: 0.0525 - accuracy: 0.9851 - val_loss: 2.1990 - val_accuracy: 0.6574\n",
            "Epoch 19/20\n",
            "64/64 [==============================] - 114s 2s/step - loss: 0.0511 - accuracy: 0.9846 - val_loss: 2.2591 - val_accuracy: 0.6911\n",
            "Epoch 20/20\n",
            "64/64 [==============================] - 106s 2s/step - loss: 0.0391 - accuracy: 0.9911 - val_loss: 2.4164 - val_accuracy: 0.6832\n"
          ]
        }
      ]
    },
    {
      "cell_type": "markdown",
      "source": [
        "## graph of training and validation loss."
      ],
      "metadata": {
        "id": "UgLPMRZhglYT"
      }
    },
    {
      "cell_type": "code",
      "source": [
        "fig, ax = plt.subplots(figsize=(10, 5))\n",
        "ax.plot(history.epoch, history.history[\"loss\"], 'g', label='Perda do treino')\n",
        "ax.plot(history.epoch, history.history[\"val_loss\"], 'r', label='Perda da validação')\n",
        "ax.set_title('Perda')\n",
        "ax.set_xlabel('Épocas')\n",
        "ax.set_ylabel('Perda')\n",
        "ax.legend()\n",
        "plt.show()"
      ],
      "metadata": {
        "colab": {
          "base_uri": "https://localhost:8080/",
          "height": 489
        },
        "id": "30T2L_J1guZI",
        "outputId": "305b2b6f-2a1b-4409-e142-f22475a049c5"
      },
      "execution_count": null,
      "outputs": [
        {
          "output_type": "display_data",
          "data": {
            "text/plain": [
              "<Figure size 1000x500 with 1 Axes>"
            ],
            "image/png": "[encoded data removed]"
          },
          "metadata": {}
        }
      ]
    },
    {
      "cell_type": "markdown",
      "source": [
        "# Conclusion"
      ],
      "metadata": {
        "id": "31atGNi3rdYG"
      }
    },
    {
      "cell_type": "markdown",
      "source": [
        "The results obtained with the CNN for the classification of car brand logos showed positive learning progress over 20 epochs, culminating in a training accuracy of 99.11% and a validation accuracy of 68.32%. These results indicate that the network was effectively able to learn the characteristics of the training data, although it showed clear signs of overfitting, evidenced by the discrepancy between the training and validation accuracies. This suggests an excessive specialization in the training data, compromising the ability to generalize to new data.\n",
        "\n",
        "In comparison, the network using the ReLU activation function achieved significantly lower results, with a maximum training accuracy of 33.71% and validation accuracy of 21.39%. The improvement in accuracy over the epochs was more moderate, and the overall performance suggests difficulties in both effectively learning the data characteristics and in generalization. However, the ReLU network demonstrated a smaller discrepancy between the training and validation accuracies, indicating less overfitting compared to the first CNN, despite its lower overall accuracy.\n",
        "\n",
        "In terms of satisfaction with the results, the CNN performed better, especially in relation to the accuracy on the training set. However, the observed overfitting signals the need for adjustments to improve generalization. The ReLU network, on the other hand, requires significant improvements in both learning capability and accuracy, possibly through revisions in the architecture, data preprocessing, and the application of data augmentation and regularization techniques.\n",
        "\n",
        "In summary, while the CNN showed greater potential for the task of classifying car brand logos, both models require adjustments to achieve a balance between effective learning and generalization capability. Implementing techniques to combat overfitting in the CNN and improvements in the architecture and data treatment for the ReLU network are critical steps to optimizing performance."
      ],
      "metadata": {
        "id": "NjW2BVlTri9m"
      }
    }
  ]
}